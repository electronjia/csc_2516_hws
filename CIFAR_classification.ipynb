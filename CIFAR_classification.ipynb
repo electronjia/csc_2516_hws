{
 "cells": [
  {
   "cell_type": "markdown",
   "metadata": {},
   "source": [
    "CIFAR dataset includes subsets of 80 million labeled images. The dataset was removed from internet."
   ]
  },
  {
   "cell_type": "code",
   "execution_count": 3,
   "metadata": {},
   "outputs": [],
   "source": [
    "import torch.nn as nn\n",
    "import torch.nn.functional as F\n",
    "from torchvision import transforms, datasets\n",
    "import torch"
   ]
  },
  {
   "cell_type": "code",
   "execution_count": 1,
   "metadata": {},
   "outputs": [],
   "source": [
    "class Net(nn.Module):\n",
    "    def __init__(self):\n",
    "        super(Net, self).__init__()\n",
    "        self.conv1 = nn.Conv2d(3, 6, 5)\n",
    "        self.pool = nn.MaxPool2d(2, 2)\n",
    "        self.conv2 = nn.Conv2d(6, 16, 5)\n",
    "        self.fc1 = nn.Linear(16 * 5 * 5, 120)\n",
    "        self.fc2 = nn.Linear(120, 120)\n",
    "        self.fc3 = nn.Linear(120, 10)\n",
    "\n",
    "    def forward(self, x):\n",
    "        x = self.pool(F.relu(self.conv1(x)))\n",
    "        x = self.pool(F.relu(self.conv2(x)))\n",
    "        x = x.view(-1, 16 * 5 * 5)\n",
    "        x = F.relu(self.fc1(x))\n",
    "        x = F.relu(self.fc2(x))\n",
    "        x = self.fc3(x)\n",
    "        return x"
   ]
  },
  {
   "cell_type": "code",
   "execution_count": 12,
   "metadata": {},
   "outputs": [],
   "source": [
    "def get_data(data_normalize=False, data_augment=False):\n",
    "\n",
    "    train_transform = transforms.Compose([])\n",
    "    test_transform = transforms.Compose([])\n",
    "\n",
    "    if data_augment:\n",
    "        train_transform.transforms.append(transforms.RandomCrop(32,padding=4))\n",
    "        train_transform.transforms.append(transforms.RandomHorizontalFlip())\n",
    "\n",
    "    train_transform.transforms.append(transforms.ToTensor())\n",
    "    test_transform.transforms.append(transforms.ToTensor())\n",
    "\n",
    "    if data_normalize:\n",
    "        normalize = transforms.Normalize(\n",
    "            mean = [x / 255.0 for x in [125.3, 123.0, 113.9]],\n",
    "            std = [x / 255.0 for x in [63.0, 62.1, 66.7]],\n",
    "        )\n",
    "        train_transform.transforms.append(normalize)\n",
    "        test_transform.transforms.append(normalize)\n",
    "\n",
    "    train_dataset = datasets.CIFAR10(\n",
    "        root=\"data/\", train=True, transform=train_transform, download=True\n",
    "    )\n",
    "\n",
    "    test_dataset = datasets.CIFAR10(\n",
    "        root=\"data/\", train=False, transform=test_transform, download=True\n",
    "    )\n",
    "\n",
    "    train_loader = torch.utils.data.DataLoader(\n",
    "        dataset=train_dataset, batch_size=128, shuffle=True, num_workers=2\n",
    "    )\n",
    "\n",
    "    test_loader = torch.utils.data.DataLoader(\n",
    "        dataset=test_dataset, batch_size=128, shuffle=False, num_workers=2\n",
    "    )\n",
    "\n",
    "    return train_loader, test_loader"
   ]
  },
  {
   "cell_type": "code",
   "execution_count": 13,
   "metadata": {},
   "outputs": [],
   "source": [
    "def test(net, loader):\n",
    "    # Change model to eval mode\n",
    "    net.eval()\n",
    "    correct = 0.0\n",
    "    total=0.0\n",
    "\n",
    "    for images, labels in loader:\n",
    "        with torch.no_grad():\n",
    "            pred = net(images)\n",
    "\n",
    "        pred = torch.max(pred.data, 1)[1]\n",
    "\n",
    "        total += labels.size(0)\n",
    "\n",
    "        correct += (pred == labels).sum().item()\n",
    "\n",
    "        val_acc = correct / total\n",
    "\n",
    "        net.train()\n",
    "        return val_acc"
   ]
  },
  {
   "cell_type": "code",
   "execution_count": 16,
   "metadata": {},
   "outputs": [],
   "source": [
    "def train_model(train_loader, test_loader, epochs=5):\n",
    "\n",
    "    # initialize internal model state\n",
    "    net = Net()\n",
    "\n",
    "    optimizer = torch.optim.SGD(net.parameters(),lr=0.1, momentum=0.9)\n",
    "    criterion = nn.CrossEntropyLoss()\n",
    "\n",
    "    train_accs = []\n",
    "    test_accs = []\n",
    "\n",
    "    net.train()\n",
    "\n",
    "    for epoch in range(epochs):\n",
    "\n",
    "        print(epoch)\n",
    "\n",
    "        xentropy_loss_avg = 0.0\n",
    "\n",
    "        correct = 0.0\n",
    "        total = 0.0\n",
    "\n",
    "        for i, (images, labels) in enumerate(train_loader):\n",
    "            \n",
    "            # Reset the gradients of all model parameters\n",
    "            net.zero_grad()\n",
    "\n",
    "            pred = net(images)\n",
    "\n",
    "            xentropy_loss = criterion(pred, labels)\n",
    "            xentropy_loss.backward()\n",
    "\n",
    "            optimizer.step()\n",
    "\n",
    "            xentropy_loss_avg += xentropy_loss.item()\n",
    "\n",
    "            # Calculate running average of accuracy\n",
    "            pred = torch.max(pred.data, 1)[1]\n",
    "            total += labels.size(0)\n",
    "\n",
    "            correct += (pred == labels.data).sum().item()\n",
    "            accuracy = correct / total\n",
    "\n",
    "        \n",
    "        test_acc = test(net, test_loader)\n",
    "\n",
    "        print(f\"Test accuracy: {test_acc}\")\n",
    "        train_accs.append(accuracy)\n",
    "        test_accs.append(test_acc)\n",
    "\n",
    "    return train_accs, test_accs"
   ]
  },
  {
   "cell_type": "code",
   "execution_count": 17,
   "metadata": {},
   "outputs": [
    {
     "name": "stdout",
     "output_type": "stream",
     "text": [
      "Files already downloaded and verified\n",
      "Files already downloaded and verified\n",
      "0\n",
      "Test accuracy: 0.328125\n",
      "1\n",
      "Test accuracy: 0.3828125\n",
      "2\n",
      "Test accuracy: 0.3671875\n"
     ]
    }
   ],
   "source": [
    "train_loader, test_loader = get_data(data_augment=False, data_normalize=False)\n",
    "train_accs, test_accs = train_model(train_loader, test_loader, epochs=3)"
   ]
  },
  {
   "cell_type": "code",
   "execution_count": 18,
   "metadata": {},
   "outputs": [
    {
     "name": "stdout",
     "output_type": "stream",
     "text": [
      "Files already downloaded and verified\n",
      "Files already downloaded and verified\n",
      "0\n",
      "Test accuracy: 0.4140625\n",
      "1\n",
      "Test accuracy: 0.421875\n",
      "2\n",
      "Test accuracy: 0.3828125\n"
     ]
    }
   ],
   "source": [
    "train_loader, test_loader = get_data(data_augment=False, data_normalize=True)\n",
    "normalize_train_accs, normalize_test_accs = train_model(train_loader, test_loader, epochs=3)"
   ]
  },
  {
   "cell_type": "code",
   "execution_count": 19,
   "metadata": {},
   "outputs": [
    {
     "name": "stderr",
     "output_type": "stream",
     "text": [
      "/var/folders/b9/_z9w0pmj70xgdmsd5b0p7l4w0000gn/T/ipykernel_23689/2779327151.py:12: UserWarning: Matplotlib is currently using module://matplotlib_inline.backend_inline, which is a non-GUI backend, so cannot show the figure.\n",
      "  fig.show()\n"
     ]
    },
    {
     "data": {
      "image/png": "[encoded data removed]",
      "text/plain": [
       "<Figure size 640x480 with 1 Axes>"
      ]
     },
     "metadata": {},
     "output_type": "display_data"
    }
   ],
   "source": [
    "import matplotlib.pyplot as plt\n",
    "fig, ax = plt.subplots()\n",
    "epochs = 3\n",
    "ax.plot(range(epochs), train_accs, c=\"red\", label=\"W/o input normalization\")\n",
    "ax.plot(range(epochs), normalize_train_accs, c=\"blue\", label=\"W/ input normalization\")\n",
    "\n",
    "ax.legend()\n",
    "\n",
    "ax.set_xlabel(\"Epochs\")\n",
    "ax.set_ylabel(\"Accuracy\")\n",
    "ax.set_title(\"Train Accuracy\")\n",
    "fig.show()"
   ]
  },
  {
   "cell_type": "code",
   "execution_count": null,
   "metadata": {},
   "outputs": [],
   "source": []
  }
 ],
 "metadata": {
  "kernelspec": {
   "display_name": "deep-learning",
   "language": "python",
   "name": "python3"
  },
  "language_info": {
   "codemirror_mode": {
    "name": "ipython",
    "version": 3
   },
   "file_extension": ".py",
   "mimetype": "text/x-python",
   "name": "python",
   "nbconvert_exporter": "python",
   "pygments_lexer": "ipython3",
   "version": "3.8.20"
  }
 },
 "nbformat": 4,
 "nbformat_minor": 2
}
